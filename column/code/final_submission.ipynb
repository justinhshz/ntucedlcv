{
 "cells": [
  {
   "cell_type": "markdown",
   "id": "6e162ebc",
   "metadata": {},
   "source": [
    "# Step 4: Criteria Mapping"
   ]
  },
  {
   "cell_type": "markdown",
   "id": "0395185c",
   "metadata": {},
   "source": [
    "## 0. Imports & Global Setting"
   ]
  },
  {
   "cell_type": "code",
   "execution_count": 28,
   "id": "0b43da18",
   "metadata": {},
   "outputs": [],
   "source": [
    "import pandas as pd\n",
    "from pathlib import Path"
   ]
  },
  {
   "cell_type": "code",
   "execution_count": 29,
   "id": "92a84111",
   "metadata": {},
   "outputs": [],
   "source": [
    "CSV_FILE = Path(\"../output/crack_classification/submission.csv\")"
   ]
  },
  {
   "cell_type": "markdown",
   "id": "36e78f87",
   "metadata": {},
   "source": [
    "## 1. Submission"
   ]
  },
  {
   "cell_type": "code",
   "execution_count": 30,
   "id": "fb8f3ebf",
   "metadata": {},
   "outputs": [
    {
     "name": "stdout",
     "output_type": "stream",
     "text": [
      "Submission file saved as 'submission.csv'\n"
     ]
    }
   ],
   "source": [
    "df = pd.read_csv(CSV_FILE)\n",
    "\n",
    "\n",
    "def encode(row):\n",
    "    c = row[\"class\"].strip().upper()\n",
    "    codes = []\n",
    "\n",
    "    if c == \"A\":\n",
    "        codes = [18]\n",
    "        if row[\"exposed rebar\"] == 1:\n",
    "            codes.append(0)\n",
    "        if any(row[x] == 1 for x in [\"web\", \"x-shape\"]):\n",
    "            codes.append(3)\n",
    "        if row[\"diagonal\"] == 1:\n",
    "            codes.append(4)\n",
    "        if any(row[x] == 1 for x in [\"vertical\", \"vertical large\"]):\n",
    "            codes.append(6)\n",
    "        if any(row[x] == 1 for x in [\"horizontal\", \"horizontal large\"]):\n",
    "            codes.append(8)\n",
    "    elif c == \"B\":\n",
    "        codes = [19]\n",
    "        if row[\"diagonal\"] == 1:\n",
    "            codes.append(5)\n",
    "        if any(row[x] == 1 for x in [\"vertical\", \"vertical large\"]):\n",
    "            codes.append(7)\n",
    "    elif c == \"C\":\n",
    "        codes = [20]\n",
    "        if row[\"horizontal large\"] == 1:\n",
    "            codes.append(9)\n",
    "        if any(row[x] == 1 for x in [\"horizontal\", \"vertical\", \"vertical large\"]):\n",
    "            codes.append(10)\n",
    "        if len(codes) == 1:\n",
    "            codes.append(1)\n",
    "    else:\n",
    "        raise ValueError(f\"Unknown class: {c}\")\n",
    "\n",
    "    return \",\".join(map(str, codes))\n",
    "\n",
    "\n",
    "df[\"class\"] = df.apply(encode, axis=1)\n",
    "final = df[[\"ID\", \"class\"]]\n",
    "\n",
    "final.to_csv(\"../output/submission.csv\", index=False)\n",
    "print(\"Submission file saved as 'submission.csv'\")"
   ]
  }
 ],
 "metadata": {
  "kernelspec": {
   "display_name": "base",
   "language": "python",
   "name": "python3"
  },
  "language_info": {
   "codemirror_mode": {
    "name": "ipython",
    "version": 3
   },
   "file_extension": ".py",
   "mimetype": "text/x-python",
   "name": "python",
   "nbconvert_exporter": "python",
   "pygments_lexer": "ipython3",
   "version": "3.11.12"
  }
 },
 "nbformat": 4,
 "nbformat_minor": 5
}
