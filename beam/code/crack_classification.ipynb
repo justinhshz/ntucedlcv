{
 "cells": [
  {
   "cell_type": "markdown",
   "id": "a07de343",
   "metadata": {},
   "source": [
    "# Step 3: Classify Diagonal, Horizontal, Vertical, Web"
   ]
  },
  {
   "cell_type": "markdown",
   "id": "74a30563",
   "metadata": {},
   "source": [
    "## 0. Imports & Global Setting"
   ]
  },
  {
   "cell_type": "code",
   "execution_count": 1,
   "id": "1a4ee43a",
   "metadata": {},
   "outputs": [],
   "source": [
    "import matplotlib.pyplot as plt\n",
    "import numpy as np\n",
    "import pandas as pd\n",
    "import random\n",
    "import torch\n",
    "import torch.nn as nn\n",
    "import torch.nn.functional as F\n",
    "import torch.optim as optim\n",
    "import torchvision.transforms as T\n",
    "import torchvision.datasets as datasets\n",
    "\n",
    "from PIL import Image\n",
    "from torch.utils.data import DataLoader, random_split\n",
    "from tqdm import tqdm"
   ]
  },
  {
   "cell_type": "code",
   "execution_count": 2,
   "id": "d6b92c1b",
   "metadata": {},
   "outputs": [],
   "source": [
    "SEED = 1220\n",
    "BATCH_SIZE = 64\n",
    "NUM_CLASSES = 4\n",
    "EPOCHS = 30\n",
    "IMAGE_SIZE = 224\n",
    "LEARNING_RATE = 0.0001\n",
    "IMAGENET_MEAN = [0.485, 0.456, 0.406]\n",
    "IMAGENET_STD = [0.229, 0.224, 0.225]\n",
    "DEVICE = torch.device(\"cuda\" if torch.cuda.is_available() else \"cpu\")\n",
    "DATA_DIR = \"../data/crack_classification\"\n",
    "LABEL_DIR = \"../output/damage_detection/predictions/labels\"\n",
    "TEST_DIR = \"../data/test\"\n",
    "CSV_FILE = \"../output/damage_classification/submission.csv\"\n",
    "FILE_EXTENSIONS = (\".jpg\", \".jpeg\", \".png\")"
   ]
  },
  {
   "cell_type": "code",
   "execution_count": 3,
   "id": "999ac3d2",
   "metadata": {},
   "outputs": [],
   "source": [
    "torch.manual_seed(SEED)\n",
    "np.random.seed(SEED)\n",
    "random.seed(SEED)"
   ]
  },
  {
   "cell_type": "code",
   "execution_count": 4,
   "id": "b57356be",
   "metadata": {},
   "outputs": [],
   "source": [
    "torch.cuda.empty_cache()"
   ]
  },
  {
   "cell_type": "code",
   "execution_count": 5,
   "id": "449a4e53",
   "metadata": {},
   "outputs": [
    {
     "name": "stdout",
     "output_type": "stream",
     "text": [
      "Using device: cuda\n",
      "Using GPU: NVIDIA GeForce RTX 4070\n",
      "Using Pytorch version: 2.7.0+cu128\n",
      "Using CUDA version: 12.8\n",
      "Using cuDNN version: 90701\n"
     ]
    }
   ],
   "source": [
    "print(f\"Using device: {DEVICE}\")\n",
    "print(f\"Using GPU: {torch.cuda.get_device_name(0) if torch.cuda.is_available() else 'CPU'}\")\n",
    "print(f\"Using Pytorch version: {torch.__version__}\")\n",
    "print(f\"Using CUDA version: {torch.version.cuda}\")\n",
    "print(f\"Using cuDNN version: {torch.backends.cudnn.version()}\")"
   ]
  },
  {
   "cell_type": "markdown",
   "id": "897ada3c",
   "metadata": {},
   "source": [
    "## 1. Dataset / DataLoader"
   ]
  },
  {
   "cell_type": "code",
   "execution_count": 6,
   "id": "1f62d416",
   "metadata": {},
   "outputs": [],
   "source": [
    "transform_train = T.Compose(\n",
    "    [\n",
    "        T.Resize(int(IMAGE_SIZE * 1.15)),\n",
    "        T.RandomCrop(IMAGE_SIZE, padding=int(IMAGE_SIZE * 0.15)),\n",
    "        T.RandomHorizontalFlip(),\n",
    "        T.ColorJitter(brightness=0.3, contrast=0.3, saturation=0.3, hue=0.1),\n",
    "        T.RandomRotation(15),\n",
    "        T.ToTensor(),\n",
    "        T.RandomErasing(p=0.5, scale=(0.02, 0.33), ratio=(0.3, 3.3), value=IMAGENET_MEAN),\n",
    "        T.Normalize(IMAGENET_MEAN, IMAGENET_STD),\n",
    "    ]\n",
    ")"
   ]
  },
  {
   "cell_type": "code",
   "execution_count": 7,
   "id": "85ad0f10",
   "metadata": {},
   "outputs": [],
   "source": [
    "def load_dataset(data_dir, batch_size, split_ratio=0.8):\n",
    "    dataset = datasets.ImageFolder(data_dir, transform=transform_train)\n",
    "    train_size = int(split_ratio * len(dataset))\n",
    "    val_size = len(dataset) - train_size\n",
    "    train_dataset, val_dataset = random_split(dataset, [train_size, val_size])\n",
    "\n",
    "    train_loader = DataLoader(train_dataset, batch_size=batch_size, shuffle=True)\n",
    "    val_loader = DataLoader(val_dataset, batch_size=batch_size, shuffle=False)\n",
    "\n",
    "    return train_loader, val_loader"
   ]
  },
  {
   "cell_type": "code",
   "execution_count": 8,
   "id": "909949f5",
   "metadata": {},
   "outputs": [],
   "source": [
    "trainloader, valloader = load_dataset(DATA_DIR, BATCH_SIZE)"
   ]
  },
  {
   "cell_type": "markdown",
   "id": "2ab9780d",
   "metadata": {},
   "source": [
    "## 2. Define Model"
   ]
  },
  {
   "cell_type": "code",
   "execution_count": 9,
   "id": "c1c6247f",
   "metadata": {},
   "outputs": [],
   "source": [
    "from torchvision.models import efficientnet_v2_s\n",
    "\n",
    "\n",
    "class EfficientNetV2(nn.Module):\n",
    "    def __init__(self, num_classes):\n",
    "        super(EfficientNetV2, self).__init__()\n",
    "        self.model = efficientnet_v2_s(weights=\"DEFAULT\")\n",
    "        self.model.classifier[1] = nn.Linear(self.model.classifier[1].in_features, num_classes)\n",
    "\n",
    "    def forward(self, x):\n",
    "        return self.model(x)\n",
    "\n",
    "\n",
    "model = EfficientNetV2(NUM_CLASSES).to(DEVICE)"
   ]
  },
  {
   "cell_type": "markdown",
   "id": "af9013c9",
   "metadata": {},
   "source": [
    "## 3. Train & Validate"
   ]
  },
  {
   "cell_type": "code",
   "execution_count": 10,
   "id": "ae6dc604",
   "metadata": {},
   "outputs": [],
   "source": [
    "class EarlyStopping:\n",
    "    def __init__(self, patience=5, verbose=False):\n",
    "        self.patience = patience\n",
    "        self.verbose = verbose\n",
    "        self.counter = 0\n",
    "        self.best_score = None\n",
    "        self.early_stop = False\n",
    "\n",
    "    def __call__(self, val_loss, model):\n",
    "        if self.best_score is None:\n",
    "            self.best_score = val_loss\n",
    "\n",
    "        elif val_loss > self.best_score:\n",
    "            self.counter += 1\n",
    "            if self.counter >= self.patience:\n",
    "                self.early_stop = True\n",
    "                if self.verbose:\n",
    "                    print(\"Early stopping triggered.\")\n",
    "\n",
    "        else:\n",
    "            self.best_score = val_loss\n",
    "            self.counter = 0\n",
    "            torch.save(model.state_dict(), \"../output/crack_classification/models/best_model.pth\")\n",
    "            if self.verbose:\n",
    "                print(f\"✅ Model saved with loss: {val_loss:.4f}\")\n",
    "\n",
    "        return self.early_stop"
   ]
  },
  {
   "cell_type": "code",
   "execution_count": 11,
   "id": "87e46d83",
   "metadata": {},
   "outputs": [],
   "source": [
    "def train(model, trainloader, valloader, epochs):\n",
    "    criterion = nn.CrossEntropyLoss(label_smoothing=0.1)\n",
    "    # optimizer = optim.Adam(model.parameters(), lr=LEARNING_RATE, weight_decay=1e-5)\n",
    "    optimizer = optim.SGD(model.parameters(), lr=0.01, momentum=0.9, weight_decay=5e-4)\n",
    "    scheduler = optim.lr_scheduler.CosineAnnealingLR(optimizer, T_max=epochs)\n",
    "    # scheduler = optim.lr_scheduler.ReduceLROnPlateau(optimizer, mode='min', patience=5, factor=0.5)\n",
    "    early_stopping = EarlyStopping(patience=7, verbose=True)\n",
    "\n",
    "    train_losses = []\n",
    "    val_losses = []\n",
    "    train_accuracies = []\n",
    "    val_accuracies = []\n",
    "\n",
    "    for epoch in range(epochs):\n",
    "        model.train()\n",
    "        running_loss = 0.0\n",
    "        correct = 0\n",
    "        total = 0\n",
    "        for images, labels in tqdm(trainloader, desc=f\"Epoch {epoch + 1}/{epochs}\", unit=\"batch\"):\n",
    "            images, labels = images.to(DEVICE), labels.to(DEVICE)\n",
    "\n",
    "            optimizer.zero_grad()\n",
    "            outputs = model(images)\n",
    "            loss = criterion(outputs, labels)\n",
    "            loss.backward()\n",
    "            optimizer.step()\n",
    "\n",
    "            running_loss += loss.item()\n",
    "            _, predicted = torch.max(outputs, 1)\n",
    "            correct += (predicted == labels).sum().item()\n",
    "            total += labels.size(0)\n",
    "\n",
    "        train_loss = running_loss / len(trainloader)\n",
    "        train_acc = correct / total\n",
    "        train_losses.append(train_loss)\n",
    "        train_accuracies.append(train_acc)\n",
    "\n",
    "        model.eval()\n",
    "        val_running_loss = 0.0\n",
    "        val_correct = 0\n",
    "        val_total = 0\n",
    "        with torch.no_grad():\n",
    "            for images, labels in valloader:\n",
    "                images, labels = images.to(DEVICE), labels.to(DEVICE)\n",
    "                outputs = model(images)\n",
    "                loss = criterion(outputs, labels)\n",
    "                val_running_loss += loss.item()\n",
    "                _, predicted = torch.max(outputs, 1)\n",
    "                val_correct += (predicted == labels).sum().item()\n",
    "                val_total += labels.size(0)\n",
    "\n",
    "        val_loss = val_running_loss / len(valloader)\n",
    "        val_acc = val_correct / val_total\n",
    "        val_losses.append(val_loss)\n",
    "        val_accuracies.append(val_acc)\n",
    "\n",
    "        scheduler.step()\n",
    "        # scheduler.step(val_loss)\n",
    "\n",
    "        print(f\"Train Loss: {train_loss:.4f}, Train Acc: {train_acc:.4f}%\")\n",
    "        print(f\"Validation Loss: {val_loss:.4f}, Val Acc: {val_acc:.4f}%\")\n",
    "        print(\"-\" * 60)\n",
    "\n",
    "        if early_stopping(val_loss, model):\n",
    "            print(\"Early stopping\")\n",
    "            break\n",
    "\n",
    "    return train_losses, val_losses, train_accuracies, val_accuracies"
   ]
  },
  {
   "cell_type": "code",
   "execution_count": 12,
   "id": "e3d9b7ca",
   "metadata": {},
   "outputs": [],
   "source": [
    "def evaluate(model, dataloader):\n",
    "    model.eval()\n",
    "    correct = 0\n",
    "    total = 0\n",
    "\n",
    "    all_labels = []\n",
    "    all_preds = []\n",
    "\n",
    "    class_correct = [0] * NUM_CLASSES\n",
    "    class_total = [0] * NUM_CLASSES\n",
    "    cm = torch.zeros(NUM_CLASSES, NUM_CLASSES, dtype=torch.int32)\n",
    "\n",
    "    with torch.no_grad():\n",
    "        for images, labels in dataloader:\n",
    "            images, labels = images.to(DEVICE), labels.to(DEVICE)\n",
    "            outputs = model(images)\n",
    "            _, predicted = torch.max(outputs, 1)\n",
    "            correct += (predicted == labels).sum().item()\n",
    "            total += labels.size(0)\n",
    "            all_labels.extend(labels.cpu().numpy())\n",
    "            all_preds.extend(predicted.cpu().numpy())\n",
    "            for i in range(labels.size(0)):\n",
    "                label = labels[i]\n",
    "                pred = predicted[i]\n",
    "                if label == pred:\n",
    "                    class_correct[label] += 1\n",
    "                class_total[label] += 1\n",
    "                cm[label, pred] += 1\n",
    "\n",
    "    accuracy = correct / total\n",
    "    return accuracy, class_correct, class_total, cm"
   ]
  },
  {
   "cell_type": "code",
   "execution_count": 13,
   "id": "55af13a7",
   "metadata": {},
   "outputs": [
    {
     "name": "stdout",
     "output_type": "stream",
     "text": [
      "Training the model...\n"
     ]
    },
    {
     "name": "stderr",
     "output_type": "stream",
     "text": [
      "Epoch 1/30: 100%|██████████| 9/9 [00:10<00:00,  1.14s/batch]\n"
     ]
    },
    {
     "name": "stdout",
     "output_type": "stream",
     "text": [
      "Train Loss: 1.3680, Train Acc: 0.3188%\n",
      "Validation Loss: 1.3976, Val Acc: 0.3409%\n",
      "------------------------------------------------------------\n"
     ]
    },
    {
     "name": "stderr",
     "output_type": "stream",
     "text": [
      "Epoch 2/30: 100%|██████████| 9/9 [00:09<00:00,  1.03s/batch]\n"
     ]
    },
    {
     "name": "stdout",
     "output_type": "stream",
     "text": [
      "Train Loss: 1.3236, Train Acc: 0.3681%\n",
      "Validation Loss: 1.3213, Val Acc: 0.3788%\n",
      "------------------------------------------------------------\n",
      "✅ Model saved with loss: 1.3213\n"
     ]
    },
    {
     "name": "stderr",
     "output_type": "stream",
     "text": [
      "Epoch 3/30: 100%|██████████| 9/9 [00:16<00:00,  1.78s/batch]\n"
     ]
    },
    {
     "name": "stdout",
     "output_type": "stream",
     "text": [
      "Train Loss: 1.2609, Train Acc: 0.4535%\n",
      "Validation Loss: 1.2792, Val Acc: 0.4242%\n",
      "------------------------------------------------------------\n",
      "✅ Model saved with loss: 1.2792\n"
     ]
    },
    {
     "name": "stderr",
     "output_type": "stream",
     "text": [
      "Epoch 4/30: 100%|██████████| 9/9 [00:09<00:00,  1.04s/batch]\n"
     ]
    },
    {
     "name": "stdout",
     "output_type": "stream",
     "text": [
      "Train Loss: 1.1670, Train Acc: 0.4934%\n",
      "Validation Loss: 1.1128, Val Acc: 0.4470%\n",
      "------------------------------------------------------------\n",
      "✅ Model saved with loss: 1.1128\n"
     ]
    },
    {
     "name": "stderr",
     "output_type": "stream",
     "text": [
      "Epoch 5/30: 100%|██████████| 9/9 [00:09<00:00,  1.06s/batch]\n"
     ]
    },
    {
     "name": "stdout",
     "output_type": "stream",
     "text": [
      "Train Loss: 1.1125, Train Acc: 0.5560%\n",
      "Validation Loss: 1.0995, Val Acc: 0.5379%\n",
      "------------------------------------------------------------\n",
      "✅ Model saved with loss: 1.0995\n"
     ]
    },
    {
     "name": "stderr",
     "output_type": "stream",
     "text": [
      "Epoch 6/30: 100%|██████████| 9/9 [00:16<00:00,  1.79s/batch]\n"
     ]
    },
    {
     "name": "stdout",
     "output_type": "stream",
     "text": [
      "Train Loss: 1.0811, Train Acc: 0.5882%\n",
      "Validation Loss: 0.9966, Val Acc: 0.6061%\n",
      "------------------------------------------------------------\n",
      "✅ Model saved with loss: 0.9966\n"
     ]
    },
    {
     "name": "stderr",
     "output_type": "stream",
     "text": [
      "Epoch 7/30: 100%|██████████| 9/9 [00:09<00:00,  1.04s/batch]\n"
     ]
    },
    {
     "name": "stdout",
     "output_type": "stream",
     "text": [
      "Train Loss: 0.9828, Train Acc: 0.6376%\n",
      "Validation Loss: 1.0865, Val Acc: 0.6136%\n",
      "------------------------------------------------------------\n"
     ]
    },
    {
     "name": "stderr",
     "output_type": "stream",
     "text": [
      "Epoch 8/30: 100%|██████████| 9/9 [00:09<00:00,  1.04s/batch]\n"
     ]
    },
    {
     "name": "stdout",
     "output_type": "stream",
     "text": [
      "Train Loss: 0.9686, Train Acc: 0.6584%\n",
      "Validation Loss: 0.9333, Val Acc: 0.6667%\n",
      "------------------------------------------------------------\n",
      "✅ Model saved with loss: 0.9333\n"
     ]
    },
    {
     "name": "stderr",
     "output_type": "stream",
     "text": [
      "Epoch 9/30: 100%|██████████| 9/9 [00:09<00:00,  1.10s/batch]\n"
     ]
    },
    {
     "name": "stdout",
     "output_type": "stream",
     "text": [
      "Train Loss: 0.9632, Train Acc: 0.6736%\n",
      "Validation Loss: 0.9955, Val Acc: 0.6439%\n",
      "------------------------------------------------------------\n"
     ]
    },
    {
     "name": "stderr",
     "output_type": "stream",
     "text": [
      "Epoch 10/30: 100%|██████████| 9/9 [00:09<00:00,  1.04s/batch]\n"
     ]
    },
    {
     "name": "stdout",
     "output_type": "stream",
     "text": [
      "Train Loss: 0.9102, Train Acc: 0.6831%\n",
      "Validation Loss: 1.0099, Val Acc: 0.5985%\n",
      "------------------------------------------------------------\n"
     ]
    },
    {
     "name": "stderr",
     "output_type": "stream",
     "text": [
      "Epoch 11/30: 100%|██████████| 9/9 [00:09<00:00,  1.04s/batch]\n"
     ]
    },
    {
     "name": "stdout",
     "output_type": "stream",
     "text": [
      "Train Loss: 0.8754, Train Acc: 0.7211%\n",
      "Validation Loss: 0.9867, Val Acc: 0.6515%\n",
      "------------------------------------------------------------\n"
     ]
    },
    {
     "name": "stderr",
     "output_type": "stream",
     "text": [
      "Epoch 12/30: 100%|██████████| 9/9 [00:09<00:00,  1.04s/batch]\n"
     ]
    },
    {
     "name": "stdout",
     "output_type": "stream",
     "text": [
      "Train Loss: 0.8725, Train Acc: 0.7306%\n",
      "Validation Loss: 0.9140, Val Acc: 0.6667%\n",
      "------------------------------------------------------------\n",
      "✅ Model saved with loss: 0.9140\n"
     ]
    },
    {
     "name": "stderr",
     "output_type": "stream",
     "text": [
      "Epoch 13/30: 100%|██████████| 9/9 [00:09<00:00,  1.08s/batch]\n"
     ]
    },
    {
     "name": "stdout",
     "output_type": "stream",
     "text": [
      "Train Loss: 0.8395, Train Acc: 0.7324%\n",
      "Validation Loss: 0.7865, Val Acc: 0.7273%\n",
      "------------------------------------------------------------\n",
      "✅ Model saved with loss: 0.7865\n"
     ]
    },
    {
     "name": "stderr",
     "output_type": "stream",
     "text": [
      "Epoch 14/30: 100%|██████████| 9/9 [00:09<00:00,  1.07s/batch]\n"
     ]
    },
    {
     "name": "stdout",
     "output_type": "stream",
     "text": [
      "Train Loss: 0.8468, Train Acc: 0.7306%\n",
      "Validation Loss: 0.9667, Val Acc: 0.5985%\n",
      "------------------------------------------------------------\n"
     ]
    },
    {
     "name": "stderr",
     "output_type": "stream",
     "text": [
      "Epoch 15/30: 100%|██████████| 9/9 [00:09<00:00,  1.03s/batch]\n"
     ]
    },
    {
     "name": "stdout",
     "output_type": "stream",
     "text": [
      "Train Loss: 0.8474, Train Acc: 0.7381%\n",
      "Validation Loss: 0.7825, Val Acc: 0.7121%\n",
      "------------------------------------------------------------\n",
      "✅ Model saved with loss: 0.7825\n"
     ]
    },
    {
     "name": "stderr",
     "output_type": "stream",
     "text": [
      "Epoch 16/30: 100%|██████████| 9/9 [00:03<00:00,  2.72batch/s]\n"
     ]
    },
    {
     "name": "stdout",
     "output_type": "stream",
     "text": [
      "Train Loss: 0.8067, Train Acc: 0.7723%\n",
      "Validation Loss: 0.8260, Val Acc: 0.6591%\n",
      "------------------------------------------------------------\n"
     ]
    },
    {
     "name": "stderr",
     "output_type": "stream",
     "text": [
      "Epoch 17/30: 100%|██████████| 9/9 [00:09<00:00,  1.06s/batch]\n"
     ]
    },
    {
     "name": "stdout",
     "output_type": "stream",
     "text": [
      "Train Loss: 0.8182, Train Acc: 0.7495%\n",
      "Validation Loss: 1.0969, Val Acc: 0.5909%\n",
      "------------------------------------------------------------\n"
     ]
    },
    {
     "name": "stderr",
     "output_type": "stream",
     "text": [
      "Epoch 18/30: 100%|██████████| 9/9 [00:09<00:00,  1.07s/batch]\n"
     ]
    },
    {
     "name": "stdout",
     "output_type": "stream",
     "text": [
      "Train Loss: 0.7692, Train Acc: 0.7799%\n",
      "Validation Loss: 0.8321, Val Acc: 0.7500%\n",
      "------------------------------------------------------------\n"
     ]
    },
    {
     "name": "stderr",
     "output_type": "stream",
     "text": [
      "Epoch 19/30: 100%|██████████| 9/9 [00:09<00:00,  1.03s/batch]\n"
     ]
    },
    {
     "name": "stdout",
     "output_type": "stream",
     "text": [
      "Train Loss: 0.7522, Train Acc: 0.7856%\n",
      "Validation Loss: 0.9181, Val Acc: 0.7121%\n",
      "------------------------------------------------------------\n"
     ]
    },
    {
     "name": "stderr",
     "output_type": "stream",
     "text": [
      "Epoch 20/30: 100%|██████████| 9/9 [00:03<00:00,  2.60batch/s]\n"
     ]
    },
    {
     "name": "stdout",
     "output_type": "stream",
     "text": [
      "Train Loss: 0.7388, Train Acc: 0.8083%\n",
      "Validation Loss: 1.0950, Val Acc: 0.7045%\n",
      "------------------------------------------------------------\n"
     ]
    },
    {
     "name": "stderr",
     "output_type": "stream",
     "text": [
      "Epoch 21/30: 100%|██████████| 9/9 [00:09<00:00,  1.06s/batch]\n"
     ]
    },
    {
     "name": "stdout",
     "output_type": "stream",
     "text": [
      "Train Loss: 0.8150, Train Acc: 0.7533%\n",
      "Validation Loss: 1.0073, Val Acc: 0.6667%\n",
      "------------------------------------------------------------\n"
     ]
    },
    {
     "name": "stderr",
     "output_type": "stream",
     "text": [
      "Epoch 22/30: 100%|██████████| 9/9 [00:09<00:00,  1.03s/batch]\n"
     ]
    },
    {
     "name": "stdout",
     "output_type": "stream",
     "text": [
      "Train Loss: 0.7176, Train Acc: 0.7932%\n",
      "Validation Loss: 1.0136, Val Acc: 0.6364%\n",
      "------------------------------------------------------------\n",
      "Early stopping triggered.\n",
      "Early stopping\n"
     ]
    }
   ],
   "source": [
    "print(\"Training the model...\")\n",
    "train_losses, val_losses, train_accuracies, val_accuracies = train(model, trainloader, valloader, EPOCHS)"
   ]
  },
  {
   "cell_type": "code",
   "execution_count": 14,
   "id": "417bdfe9",
   "metadata": {},
   "outputs": [
    {
     "name": "stdout",
     "output_type": "stream",
     "text": [
      "Evaluating the model...\n",
      "Validation Accuracy: 0.7500\n"
     ]
    }
   ],
   "source": [
    "print(\"Evaluating the model...\")\n",
    "val_accuracy, val_class_correct, val_class_total, val_cm = evaluate(model, valloader)\n",
    "print(f\"Validation Accuracy: {val_accuracy:.4f}\")"
   ]
  },
  {
   "cell_type": "code",
   "execution_count": 15,
   "id": "8a565b51",
   "metadata": {},
   "outputs": [],
   "source": [
    "torch.cuda.empty_cache()\n",
    "torch.cuda.ipc_collect()"
   ]
  },
  {
   "cell_type": "markdown",
   "id": "919659d5",
   "metadata": {},
   "source": [
    "## 4. Evaluation & Visualization"
   ]
  },
  {
   "cell_type": "code",
   "execution_count": 16,
   "id": "7289ce5c",
   "metadata": {},
   "outputs": [],
   "source": [
    "def plot_training_metrics(train_losses, train_accuracies, val_losses, val_accuracies):\n",
    "\n",
    "    epochs = range(1, len(train_losses) + 1)\n",
    "\n",
    "    fig, (ax1, ax2) = plt.subplots(1, 2, figsize=(15, 5))\n",
    "\n",
    "    ax1.plot(epochs, train_losses, 'b-', label='Training Loss')\n",
    "    ax1.plot(epochs, val_losses, 'r-', label='Validation Loss')\n",
    "    ax1.set_title('Training and Validation Loss')\n",
    "    ax1.set_xlabel('Epochs')\n",
    "    ax1.set_ylabel('Loss')\n",
    "    ax1.legend()\n",
    "    ax1.grid(True)\n",
    "\n",
    "    ax2.plot(epochs, train_accuracies, 'b-', label='Training Accuracy')\n",
    "    ax2.plot(epochs, val_accuracies, 'r-', label='Validation Accuracy')\n",
    "    ax2.set_title('Training and Validation Accuracy')\n",
    "    ax2.set_xlabel('Epochs')\n",
    "    ax2.set_ylabel('Accuracy (%)')\n",
    "    ax2.legend()\n",
    "    ax2.grid(True)\n",
    "\n",
    "    plt.tight_layout()\n",
    "    plt.show()\n",
    "\n",
    "    fig.savefig('../output/crack_classification/images/training_metrics.png')\n",
    "    print(\"Training metrics plot saved as 'training_metrics.png'\")\n",
    "    return"
   ]
  },
  {
   "cell_type": "code",
   "execution_count": 17,
   "id": "7ce02052",
   "metadata": {},
   "outputs": [],
   "source": [
    "def plot_evaluation_metrics(class_correct, class_total, confusion_matrix):\n",
    "\n",
    "    classes = ['Diagonal', 'Horizontal', 'Vertical', 'Web']\n",
    "    num_classes = len(classes)\n",
    "\n",
    "    # Calculate accuracies and identify valid classes\n",
    "    accuracies = []\n",
    "    valid_classes = []\n",
    "\n",
    "    print(\"\\nPer-class Accuracy:\")\n",
    "    print(\"-\" * 50)\n",
    "    for i in range(num_classes):\n",
    "        if class_total[i] > 0:  # Avoid division by zero\n",
    "            accuracy = 100 * class_correct[i] / class_total[i]\n",
    "            print(f'{classes[i]}: {accuracy:.2f}% ({int(class_correct[i])}/{int(class_total[i])})')\n",
    "            accuracies.append(accuracy)\n",
    "            valid_classes.append(classes[i])\n",
    "        else:\n",
    "            print(f'{classes[i]}: No samples')\n",
    "\n",
    "    # Plot per-class accuracy as a bar chart\n",
    "    plt.figure(figsize=(12, 6))\n",
    "    plt.bar(valid_classes, accuracies, color='skyblue')\n",
    "    plt.xlabel('Classes')\n",
    "    plt.ylabel('Accuracy (%)')\n",
    "    plt.title('Per-class Accuracy')\n",
    "    plt.xticks(rotation=45, ha='right')\n",
    "    plt.tight_layout()\n",
    "    plt.savefig('../output/crack_classification/images/per_class_accuracy.png')\n",
    "    plt.show()\n",
    "\n",
    "    # Normalize confusion matrix by row (true labels) and plot\n",
    "    normalized_confusion_matrix = confusion_matrix.clone().float()  # Create a copy to avoid modifying the original\n",
    "    for i in range(num_classes):\n",
    "        if normalized_confusion_matrix[i].sum() > 0:\n",
    "            normalized_confusion_matrix[i] = normalized_confusion_matrix[i] / normalized_confusion_matrix[i].sum()\n",
    "\n",
    "    # Plot confusion matrix\n",
    "    plt.figure(figsize=(10, 8))\n",
    "    plt.imshow(normalized_confusion_matrix.cpu().numpy(), interpolation='nearest', cmap=plt.cm.Blues)\n",
    "    plt.title('Normalized Confusion Matrix')\n",
    "    plt.colorbar()\n",
    "    tick_marks = np.arange(num_classes)\n",
    "    plt.xticks(tick_marks, classes, rotation=45, ha='right')\n",
    "    plt.yticks(tick_marks, classes)\n",
    "\n",
    "    thresh = normalized_confusion_matrix.cpu().numpy().max() / 2.0\n",
    "    for i in range(num_classes):\n",
    "        for j in range(num_classes):\n",
    "            plt.text(\n",
    "                j,\n",
    "                i,\n",
    "                f'{normalized_confusion_matrix[i, j]:.2f}',\n",
    "                horizontalalignment=\"center\",\n",
    "                color=\"white\" if normalized_confusion_matrix[i, j] > thresh else \"black\",\n",
    "            )\n",
    "\n",
    "    plt.tight_layout()\n",
    "    plt.ylabel('True label')\n",
    "    plt.xlabel('Predicted label')\n",
    "    plt.savefig('../output/crack_classification/images/confusion_matrix.png')\n",
    "    plt.show()\n",
    "\n",
    "    return"
   ]
  },
  {
   "cell_type": "code",
   "execution_count": 18,
   "id": "175a9dcc",
   "metadata": {},
   "outputs": [
    {
     "data": {
      "image/png": "[encoded data removed]",
      "text/plain": [
       "<Figure size 1500x500 with 2 Axes>"
      ]
     },
     "metadata": {},
     "output_type": "display_data"
    },
    {
     "name": "stdout",
     "output_type": "stream",
     "text": [
      "Training metrics plot saved as 'training_metrics.png'\n",
      "\n",
      "Per-class Accuracy:\n",
      "--------------------------------------------------\n",
      "Diagonal: 51.72% (15/29)\n",
      "Horizontal: 89.19% (33/37)\n",
      "Vertical: 83.33% (35/42)\n",
      "Web: 66.67% (16/24)\n"
     ]
    },
    {
     "data": {
      "image/png": "[encoded data removed]",
      "text/plain": [
       "<Figure size 1200x600 with 1 Axes>"
      ]
     },
     "metadata": {},
     "output_type": "display_data"
    },
    {
     "data": {
      "image/png": "[encoded data removed]",
      "text/plain": [
       "<Figure size 1000x800 with 2 Axes>"
      ]
     },
     "metadata": {},
     "output_type": "display_data"
    }
   ],
   "source": [
    "plot_training_metrics(train_losses, train_accuracies, val_losses, val_accuracies)\n",
    "plot_evaluation_metrics(val_class_correct, val_class_total, val_cm)"
   ]
  },
  {
   "cell_type": "markdown",
   "id": "9ef81567",
   "metadata": {},
   "source": [
    "## 5. Prediction & Submission"
   ]
  },
  {
   "cell_type": "code",
   "execution_count": 27,
   "id": "29ea8a0b",
   "metadata": {},
   "outputs": [],
   "source": [
    "CRACK_CLASSES = [\"diagonal\", \"horizontal\", \"vertical\", \"web\"]"
   ]
  },
  {
   "cell_type": "code",
   "execution_count": 28,
   "id": "2f6d0748",
   "metadata": {},
   "outputs": [],
   "source": [
    "import cv2\n",
    "\n",
    "\n",
    "def yolo_to_xyxy(img_h, img_w, xc, yc, w, h):\n",
    "    x1 = int((xc - w / 2) * img_w)\n",
    "    y1 = int((yc - h / 2) * img_h)\n",
    "    x2 = int((xc + w / 2) * img_w)\n",
    "    y2 = int((yc + h / 2) * img_h)\n",
    "    return max(x1, 0), max(y1, 0), min(x2, img_w - 1), min(y2, img_h - 1)\n",
    "\n",
    "\n",
    "def crop_and_resize(img, box, out_size=224):\n",
    "    x1, y1, x2, y2 = box\n",
    "    patch = img[y1:y2, x1:x2]\n",
    "    return cv2.resize(patch, (out_size, out_size), interpolation=cv2.INTER_AREA)"
   ]
  },
  {
   "cell_type": "code",
   "execution_count": 29,
   "id": "67a6f234",
   "metadata": {},
   "outputs": [
    {
     "data": {
      "application/vnd.microsoft.datawrangler.viewer.v0+json": {
       "columns": [
        {
         "name": "index",
         "rawType": "int64",
         "type": "integer"
        },
        {
         "name": "ID",
         "rawType": "int64",
         "type": "integer"
        },
        {
         "name": "class",
         "rawType": "object",
         "type": "string"
        },
        {
         "name": "diagonal",
         "rawType": "int64",
         "type": "integer"
        },
        {
         "name": "horizontal",
         "rawType": "int64",
         "type": "integer"
        },
        {
         "name": "vertical",
         "rawType": "int64",
         "type": "integer"
        },
        {
         "name": "web",
         "rawType": "int64",
         "type": "integer"
        }
       ],
       "ref": "b27300ba-baac-47e5-80d2-a1e64c489f60",
       "rows": [
        [
         "0",
         "1",
         "C",
         "0",
         "0",
         "0",
         "0"
        ],
        [
         "1",
         "2",
         "C",
         "0",
         "0",
         "0",
         "0"
        ],
        [
         "2",
         "3",
         "B",
         "0",
         "0",
         "0",
         "0"
        ],
        [
         "3",
         "4",
         "B",
         "0",
         "0",
         "0",
         "0"
        ],
        [
         "4",
         "5",
         "A",
         "0",
         "0",
         "0",
         "0"
        ]
       ],
       "shape": {
        "columns": 6,
        "rows": 5
       }
      },
      "text/html": [
       "<div>\n",
       "<style scoped>\n",
       "    .dataframe tbody tr th:only-of-type {\n",
       "        vertical-align: middle;\n",
       "    }\n",
       "\n",
       "    .dataframe tbody tr th {\n",
       "        vertical-align: top;\n",
       "    }\n",
       "\n",
       "    .dataframe thead th {\n",
       "        text-align: right;\n",
       "    }\n",
       "</style>\n",
       "<table border=\"1\" class=\"dataframe\">\n",
       "  <thead>\n",
       "    <tr style=\"text-align: right;\">\n",
       "      <th></th>\n",
       "      <th>ID</th>\n",
       "      <th>class</th>\n",
       "      <th>diagonal</th>\n",
       "      <th>horizontal</th>\n",
       "      <th>vertical</th>\n",
       "      <th>web</th>\n",
       "    </tr>\n",
       "  </thead>\n",
       "  <tbody>\n",
       "    <tr>\n",
       "      <th>0</th>\n",
       "      <td>1</td>\n",
       "      <td>C</td>\n",
       "      <td>0</td>\n",
       "      <td>0</td>\n",
       "      <td>0</td>\n",
       "      <td>0</td>\n",
       "    </tr>\n",
       "    <tr>\n",
       "      <th>1</th>\n",
       "      <td>2</td>\n",
       "      <td>C</td>\n",
       "      <td>0</td>\n",
       "      <td>0</td>\n",
       "      <td>0</td>\n",
       "      <td>0</td>\n",
       "    </tr>\n",
       "    <tr>\n",
       "      <th>2</th>\n",
       "      <td>3</td>\n",
       "      <td>B</td>\n",
       "      <td>0</td>\n",
       "      <td>0</td>\n",
       "      <td>0</td>\n",
       "      <td>0</td>\n",
       "    </tr>\n",
       "    <tr>\n",
       "      <th>3</th>\n",
       "      <td>4</td>\n",
       "      <td>B</td>\n",
       "      <td>0</td>\n",
       "      <td>0</td>\n",
       "      <td>0</td>\n",
       "      <td>0</td>\n",
       "    </tr>\n",
       "    <tr>\n",
       "      <th>4</th>\n",
       "      <td>5</td>\n",
       "      <td>A</td>\n",
       "      <td>0</td>\n",
       "      <td>0</td>\n",
       "      <td>0</td>\n",
       "      <td>0</td>\n",
       "    </tr>\n",
       "  </tbody>\n",
       "</table>\n",
       "</div>"
      ],
      "text/plain": [
       "   ID class  diagonal  horizontal  vertical  web\n",
       "0   1     C         0           0         0    0\n",
       "1   2     C         0           0         0    0\n",
       "2   3     B         0           0         0    0\n",
       "3   4     B         0           0         0    0\n",
       "4   5     A         0           0         0    0"
      ]
     },
     "execution_count": 29,
     "metadata": {},
     "output_type": "execute_result"
    }
   ],
   "source": [
    "df = pd.read_csv(CSV_FILE)\n",
    "\n",
    "for cls in CRACK_CLASSES:\n",
    "    df[cls] = 0\n",
    "\n",
    "df.head()"
   ]
  },
  {
   "cell_type": "code",
   "execution_count": 30,
   "id": "2b2b6076",
   "metadata": {},
   "outputs": [
    {
     "name": "stderr",
     "output_type": "stream",
     "text": [
      "Processing test images: 100%|██████████| 50/50 [00:01<00:00, 35.02it/s]\n"
     ]
    }
   ],
   "source": [
    "from pathlib import Path\n",
    "\n",
    "model.load_state_dict(torch.load(\"../output/crack_classification/models/best_model.pth\"))\n",
    "model.to(DEVICE)\n",
    "model.eval()\n",
    "\n",
    "for _, row in tqdm(df.iterrows(), total=len(df), desc=\"Processing test images\"):\n",
    "    img_id = str(int(row[\"ID\"] if \"ID\" in df.columns else row[0]))\n",
    "    img_path = Path(TEST_DIR) / f\"{img_id}.jpg\"\n",
    "    label_path = Path(LABEL_DIR) / f\"{img_id}.txt\"\n",
    "\n",
    "    if not img_path.exists() or not label_path.exists():\n",
    "        continue\n",
    "\n",
    "    img = cv2.imread(str(img_path))\n",
    "    h, w = img.shape[:2]\n",
    "\n",
    "    with open(label_path, \"r\") as f:\n",
    "        for ln in f:\n",
    "            cls_id, xc, yc, bw, bh = map(float, ln.split())\n",
    "            if int(cls_id) != 1:\n",
    "                continue\n",
    "\n",
    "            box = yolo_to_xyxy(h, w, xc, yc, bw, bh)\n",
    "            patch = crop_and_resize(img, box, out_size=IMAGE_SIZE)\n",
    "            patch = Image.fromarray(patch)\n",
    "            patch = transform_train(patch).unsqueeze(0).to(DEVICE)\n",
    "\n",
    "            with torch.no_grad():\n",
    "                output = model(patch)\n",
    "                _, predicted = torch.max(output, 1)\n",
    "                cls_name = CRACK_CLASSES[predicted.item()]\n",
    "            df.loc[df[\"ID\"] == int(img_id), cls_name] = 1\n",
    "\n",
    "df.to_csv(\"../output/crack_classification/submission.csv\", index=False)"
   ]
  }
 ],
 "metadata": {
  "kernelspec": {
   "display_name": "base",
   "language": "python",
   "name": "python3"
  },
  "language_info": {
   "codemirror_mode": {
    "name": "ipython",
    "version": 3
   },
   "file_extension": ".py",
   "mimetype": "text/x-python",
   "name": "python",
   "nbconvert_exporter": "python",
   "pygments_lexer": "ipython3",
   "version": "3.11.12"
  }
 },
 "nbformat": 4,
 "nbformat_minor": 5
}
