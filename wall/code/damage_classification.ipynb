{
 "cells": [
  {
   "cell_type": "markdown",
   "id": "cea572ff",
   "metadata": {},
   "source": [
    "# Step 1: Classify A, B, C"
   ]
  },
  {
   "cell_type": "markdown",
   "id": "a0d39a27",
   "metadata": {},
   "source": [
    "## 0. Imports & Global Setting"
   ]
  },
  {
   "cell_type": "code",
   "execution_count": 1,
   "id": "03756639",
   "metadata": {},
   "outputs": [],
   "source": [
    "import matplotlib.pyplot as plt\n",
    "import numpy as np\n",
    "import pandas as pd\n",
    "import random\n",
    "import torch\n",
    "import torch.nn as nn\n",
    "import torch.nn.functional as F\n",
    "import torch.optim as optim\n",
    "import torchvision.transforms as T\n",
    "import torchvision.datasets as datasets\n",
    "\n",
    "from PIL import Image\n",
    "from torch.utils.data import DataLoader, random_split\n",
    "from tqdm import tqdm"
   ]
  },
  {
   "cell_type": "code",
   "execution_count": 2,
   "id": "3668a86e",
   "metadata": {},
   "outputs": [],
   "source": [
    "SEED = 1220\n",
    "BATCH_SIZE = 64\n",
    "NUM_CLASSES = 3\n",
    "EPOCHS = 20\n",
    "IMAGE_SIZE = 224\n",
    "LEARNING_RATE = 0.00095\n",
    "IMAGENET_MEAN = [0.485, 0.456, 0.406]\n",
    "IMAGENET_STD = [0.229, 0.224, 0.225]\n",
    "DEVICE = torch.device(\"cuda\" if torch.cuda.is_available() else \"cpu\")\n",
    "DATA_DIR = \"../data/damage_classification\"\n",
    "TEST_DIR = \"../data/test\"\n",
    "CSV_FILE = \"../data/submission.csv\"\n",
    "FILE_EXTENSIONS = (\".jpg\", \".jpeg\", \".png\")"
   ]
  },
  {
   "cell_type": "code",
   "execution_count": 3,
   "id": "55f71854",
   "metadata": {},
   "outputs": [],
   "source": [
    "torch.manual_seed(SEED)\n",
    "np.random.seed(SEED)\n",
    "random.seed(SEED)"
   ]
  },
  {
   "cell_type": "code",
   "execution_count": 4,
   "id": "f9117e21",
   "metadata": {},
   "outputs": [],
   "source": [
    "torch.cuda.empty_cache()"
   ]
  },
  {
   "cell_type": "code",
   "execution_count": 5,
   "id": "bdffe07b",
   "metadata": {},
   "outputs": [
    {
     "name": "stdout",
     "output_type": "stream",
     "text": [
      "Using device: cuda\n",
      "Using GPU: NVIDIA GeForce RTX 4070\n",
      "Using Pytorch version: 2.7.0+cu128\n",
      "Using CUDA version: 12.8\n",
      "Using cuDNN version: 90701\n"
     ]
    }
   ],
   "source": [
    "print(f\"Using device: {DEVICE}\")\n",
    "print(f\"Using GPU: {torch.cuda.get_device_name(0) if torch.cuda.is_available() else 'CPU'}\")\n",
    "print(f\"Using Pytorch version: {torch.__version__}\")\n",
    "print(f\"Using CUDA version: {torch.version.cuda}\")\n",
    "print(f\"Using cuDNN version: {torch.backends.cudnn.version()}\")"
   ]
  },
  {
   "cell_type": "markdown",
   "id": "b6394efe",
   "metadata": {},
   "source": [
    "## 1. Dataset / DataLoader"
   ]
  },
  {
   "cell_type": "code",
   "execution_count": 6,
   "id": "19d22ded",
   "metadata": {},
   "outputs": [],
   "source": [
    "transform_train = T.Compose(\n",
    "    [\n",
    "        T.Resize(int(IMAGE_SIZE * 1.15)),\n",
    "        T.RandomCrop(IMAGE_SIZE, padding=int(IMAGE_SIZE * 0.15)),\n",
    "        T.RandomHorizontalFlip(),\n",
    "        T.ColorJitter(brightness=0.3, contrast=0.3, saturation=0.3, hue=0.1),\n",
    "        T.RandomRotation(15),\n",
    "        T.ToTensor(),\n",
    "        T.RandomErasing(p=0.5, scale=(0.02, 0.33), ratio=(0.3, 3.3), value=IMAGENET_MEAN),\n",
    "        T.Normalize(IMAGENET_MEAN, IMAGENET_STD),\n",
    "    ]\n",
    ")"
   ]
  },
  {
   "cell_type": "code",
   "execution_count": 7,
   "id": "44b17d5a",
   "metadata": {},
   "outputs": [],
   "source": [
    "def load_dataset(data_dir, batch_size, split_ratio=0.8):\n",
    "    dataset = datasets.ImageFolder(data_dir, transform=transform_train)\n",
    "    train_size = int(split_ratio * len(dataset))\n",
    "    val_size = len(dataset) - train_size\n",
    "    train_dataset, val_dataset = random_split(dataset, [train_size, val_size])\n",
    "\n",
    "    train_loader = DataLoader(train_dataset, batch_size=batch_size, shuffle=True)\n",
    "    val_loader = DataLoader(val_dataset, batch_size=batch_size, shuffle=False)\n",
    "\n",
    "    return train_loader, val_loader"
   ]
  },
  {
   "cell_type": "code",
   "execution_count": 8,
   "id": "e7025e29",
   "metadata": {},
   "outputs": [],
   "source": [
    "trainloader, valloader = load_dataset(DATA_DIR, BATCH_SIZE)"
   ]
  },
  {
   "cell_type": "markdown",
   "id": "65d7af6b",
   "metadata": {},
   "source": [
    "## 2. Define Model"
   ]
  },
  {
   "cell_type": "code",
   "execution_count": 9,
   "id": "997e7a71",
   "metadata": {},
   "outputs": [],
   "source": [
    "from torchvision.models import efficientnet_v2_s\n",
    "\n",
    "\n",
    "class EfficientNetV2(nn.Module):\n",
    "    def __init__(self, num_classes):\n",
    "        super(EfficientNetV2, self).__init__()\n",
    "        self.model = efficientnet_v2_s(weights=\"DEFAULT\")\n",
    "        self.model.classifier[1] = nn.Linear(self.model.classifier[1].in_features, num_classes)\n",
    "\n",
    "    def forward(self, x):\n",
    "        return self.model(x)\n",
    "\n",
    "\n",
    "model = EfficientNetV2(NUM_CLASSES).to(DEVICE)"
   ]
  },
  {
   "cell_type": "markdown",
   "id": "49012c76",
   "metadata": {},
   "source": [
    "## 3. Train & Validate"
   ]
  },
  {
   "cell_type": "code",
   "execution_count": null,
   "id": "7ced1055",
   "metadata": {},
   "outputs": [],
   "source": [
    "class EarlyStopping:\n",
    "    def __init__(self, patience=5, verbose=False):\n",
    "        self.patience = patience\n",
    "        self.verbose = verbose\n",
    "        self.counter = 0\n",
    "        self.best_score = None\n",
    "        self.early_stop = False\n",
    "\n",
    "    def __call__(self, val_loss, model):\n",
    "        if self.best_score is None:\n",
    "            self.best_score = val_loss\n",
    "\n",
    "        elif val_loss > self.best_score:\n",
    "            self.counter += 1\n",
    "            if self.counter >= self.patience:\n",
    "                self.early_stop = True\n",
    "                if self.verbose:\n",
    "                    print(\"Early stopping triggered.\")\n",
    "\n",
    "        else:\n",
    "            self.best_score = val_loss\n",
    "            self.counter = 0\n",
    "            torch.save(model.state_dict(), \"../output/damage_classification/models/best_model.pth\")\n",
    "            if self.verbose:\n",
    "                print(f\"✅ Model saved with loss: {val_loss:.4f}\")\n",
    "\n",
    "        return self.early_stop"
   ]
  },
  {
   "cell_type": "code",
   "execution_count": 11,
   "id": "6c3c0ee3",
   "metadata": {},
   "outputs": [],
   "source": [
    "class FocalLoss(nn.Module):\n",
    "    def __init__(self, alpha=None, gamma=2.0):\n",
    "        super().__init__()\n",
    "        self.alpha = torch.tensor(alpha, device=DEVICE) if alpha else None\n",
    "        self.gamma = gamma\n",
    "        self.ce = nn.CrossEntropyLoss(reduction='none')\n",
    "\n",
    "    def forward(self, logits, targets):\n",
    "        ce_loss = self.ce(logits, targets)\n",
    "        pt = torch.exp(-ce_loss)           # prob of true class\n",
    "        focal = (1-pt) ** self.gamma * ce_loss\n",
    "        if self.alpha is not None:\n",
    "            focal = self.alpha[targets] * focal\n",
    "        return focal.mean()"
   ]
  },
  {
   "cell_type": "code",
   "execution_count": 12,
   "id": "5fa8fd78",
   "metadata": {},
   "outputs": [],
   "source": [
    "def train(model, trainloader, valloader, epochs):\n",
    "    criterion = nn.CrossEntropyLoss(label_smoothing=0.09)\n",
    "    # criterion = FocalLoss(alpha=[1.1, 1.7, 1.0], gamma=2.0)\n",
    "    # optimizer = optim.Adam(model.parameters(), lr=LEARNING_RATE, weight_decay=1e-4)\n",
    "    optimizer = optim.SGD(model.parameters(), lr=0.008, momentum=0.92, weight_decay=5e-4)\n",
    "    scheduler = optim.lr_scheduler.CosineAnnealingLR(optimizer, T_max=epochs)\n",
    "    # scheduler = torch.optim.lr_scheduler.ReduceLROnPlateau(optimizer, mode='min', patience=2, factor=0.5)\n",
    "    early_stopping = EarlyStopping(patience=5, verbose=True)\n",
    "\n",
    "    train_losses = []\n",
    "    val_losses = []\n",
    "    train_accuracies = []\n",
    "    val_accuracies = []\n",
    "\n",
    "    for epoch in range(epochs):\n",
    "        model.train()\n",
    "        running_loss = 0.0\n",
    "        correct = 0\n",
    "        total = 0\n",
    "        for images, labels in tqdm(trainloader, desc=f\"Epoch {epoch + 1}/{epochs}\", unit=\"batch\"):\n",
    "            images, labels = images.to(DEVICE), labels.to(DEVICE)\n",
    "\n",
    "            optimizer.zero_grad()\n",
    "            outputs = model(images)\n",
    "            loss = criterion(outputs, labels)\n",
    "            loss.backward()\n",
    "            optimizer.step()\n",
    "\n",
    "            running_loss += loss.item()\n",
    "            _, predicted = torch.max(outputs, 1)\n",
    "            correct += (predicted == labels).sum().item()\n",
    "            total += labels.size(0)\n",
    "\n",
    "        train_loss = running_loss / len(trainloader)\n",
    "        train_acc = correct / total\n",
    "        train_losses.append(train_loss)\n",
    "        train_accuracies.append(train_acc)\n",
    "\n",
    "        model.eval()\n",
    "        val_running_loss = 0.0\n",
    "        val_correct = 0\n",
    "        val_total = 0\n",
    "        with torch.no_grad():\n",
    "            for images, labels in valloader:\n",
    "                images, labels = images.to(DEVICE), labels.to(DEVICE)\n",
    "                outputs = model(images)\n",
    "                loss = criterion(outputs, labels)\n",
    "                val_running_loss += loss.item()\n",
    "                _, predicted = torch.max(outputs, 1)\n",
    "                val_correct += (predicted == labels).sum().item()\n",
    "                val_total += labels.size(0)\n",
    "\n",
    "        val_loss = val_running_loss / len(valloader)\n",
    "        val_acc = val_correct / val_total\n",
    "        val_losses.append(val_loss)\n",
    "        val_accuracies.append(val_acc)\n",
    "\n",
    "        scheduler.step()\n",
    "        # scheduler.step(val_loss)\n",
    "\n",
    "        print(f\"Train Loss: {train_loss:.4f}, Train Acc: {train_acc:.4f}%\")\n",
    "        print(f\"Validation Loss: {val_loss:.4f}, Val Acc: {val_acc:.4f}%\")\n",
    "        print(\"-\" * 60)\n",
    "\n",
    "        if early_stopping(val_loss, model):\n",
    "            print(\"Early stopping\")\n",
    "            break\n",
    "\n",
    "    return train_losses, val_losses, train_accuracies, val_accuracies"
   ]
  },
  {
   "cell_type": "code",
   "execution_count": 13,
   "id": "32e301e8",
   "metadata": {},
   "outputs": [],
   "source": [
    "def evaluate(model, dataloader):\n",
    "    model.eval()\n",
    "    correct = 0\n",
    "    total = 0\n",
    "\n",
    "    all_labels = []\n",
    "    all_preds = []\n",
    "\n",
    "    class_correct = [0] * NUM_CLASSES\n",
    "    class_total = [0] * NUM_CLASSES\n",
    "    cm = torch.zeros(NUM_CLASSES, NUM_CLASSES, dtype=torch.int32)\n",
    "\n",
    "    with torch.no_grad():\n",
    "        for images, labels in dataloader:\n",
    "            images, labels = images.to(DEVICE), labels.to(DEVICE)\n",
    "            outputs = model(images)\n",
    "            _, predicted = torch.max(outputs, 1)\n",
    "            correct += (predicted == labels).sum().item()\n",
    "            total += labels.size(0)\n",
    "            all_labels.extend(labels.cpu().numpy())\n",
    "            all_preds.extend(predicted.cpu().numpy())\n",
    "            for i in range(labels.size(0)):\n",
    "                label = labels[i]\n",
    "                pred = predicted[i]\n",
    "                if label == pred:\n",
    "                    class_correct[label] += 1\n",
    "                class_total[label] += 1\n",
    "                cm[label, pred] += 1\n",
    "\n",
    "    accuracy = correct / total\n",
    "    return accuracy, class_correct, class_total, cm"
   ]
  },
  {
   "cell_type": "code",
   "execution_count": 14,
   "id": "6e0f097d",
   "metadata": {},
   "outputs": [
    {
     "name": "stdout",
     "output_type": "stream",
     "text": [
      "Training the model...\n"
     ]
    },
    {
     "name": "stderr",
     "output_type": "stream",
     "text": [
      "Epoch 1/20: 100%|██████████| 5/5 [00:06<00:00,  1.26s/batch]\n"
     ]
    },
    {
     "name": "stdout",
     "output_type": "stream",
     "text": [
      "Train Loss: 1.0614, Train Acc: 0.4424%\n",
      "Validation Loss: 1.0827, Val Acc: 0.2941%\n",
      "------------------------------------------------------------\n"
     ]
    },
    {
     "name": "stderr",
     "output_type": "stream",
     "text": [
      "Epoch 2/20: 100%|██████████| 5/5 [00:02<00:00,  1.80batch/s]\n"
     ]
    },
    {
     "name": "stdout",
     "output_type": "stream",
     "text": [
      "Train Loss: 0.9915, Train Acc: 0.5093%\n",
      "Validation Loss: 0.8970, Val Acc: 0.5000%\n",
      "------------------------------------------------------------\n",
      "Validation loss improved to 0.8970.\n",
      "✅ Model saved with loss: 0.8970\n"
     ]
    },
    {
     "name": "stderr",
     "output_type": "stream",
     "text": [
      "Epoch 3/20: 100%|██████████| 5/5 [00:05<00:00,  1.13s/batch]\n"
     ]
    },
    {
     "name": "stdout",
     "output_type": "stream",
     "text": [
      "Train Loss: 0.9031, Train Acc: 0.6134%\n",
      "Validation Loss: 0.8668, Val Acc: 0.5441%\n",
      "------------------------------------------------------------\n",
      "Validation loss improved to 0.8668.\n",
      "✅ Model saved with loss: 0.8668\n"
     ]
    },
    {
     "name": "stderr",
     "output_type": "stream",
     "text": [
      "Epoch 4/20: 100%|██████████| 5/5 [00:05<00:00,  1.13s/batch]\n"
     ]
    },
    {
     "name": "stdout",
     "output_type": "stream",
     "text": [
      "Train Loss: 0.8418, Train Acc: 0.6989%\n",
      "Validation Loss: 0.7668, Val Acc: 0.6471%\n",
      "------------------------------------------------------------\n",
      "Validation loss improved to 0.7668.\n",
      "✅ Model saved with loss: 0.7668\n"
     ]
    },
    {
     "name": "stderr",
     "output_type": "stream",
     "text": [
      "Epoch 5/20: 100%|██████████| 5/5 [00:05<00:00,  1.14s/batch]\n"
     ]
    },
    {
     "name": "stdout",
     "output_type": "stream",
     "text": [
      "Train Loss: 0.7380, Train Acc: 0.7063%\n",
      "Validation Loss: 0.7217, Val Acc: 0.6618%\n",
      "------------------------------------------------------------\n",
      "Validation loss improved to 0.7217.\n",
      "✅ Model saved with loss: 0.7217\n"
     ]
    },
    {
     "name": "stderr",
     "output_type": "stream",
     "text": [
      "Epoch 6/20: 100%|██████████| 5/5 [00:02<00:00,  1.76batch/s]\n"
     ]
    },
    {
     "name": "stdout",
     "output_type": "stream",
     "text": [
      "Train Loss: 0.6555, Train Acc: 0.7695%\n",
      "Validation Loss: 0.7712, Val Acc: 0.6765%\n",
      "------------------------------------------------------------\n"
     ]
    },
    {
     "name": "stderr",
     "output_type": "stream",
     "text": [
      "Epoch 7/20: 100%|██████████| 5/5 [00:05<00:00,  1.13s/batch]\n"
     ]
    },
    {
     "name": "stdout",
     "output_type": "stream",
     "text": [
      "Train Loss: 0.6078, Train Acc: 0.7881%\n",
      "Validation Loss: 0.5532, Val Acc: 0.7206%\n",
      "------------------------------------------------------------\n",
      "Validation loss improved to 0.5532.\n",
      "✅ Model saved with loss: 0.5532\n"
     ]
    },
    {
     "name": "stderr",
     "output_type": "stream",
     "text": [
      "Epoch 8/20: 100%|██████████| 5/5 [00:05<00:00,  1.14s/batch]\n"
     ]
    },
    {
     "name": "stdout",
     "output_type": "stream",
     "text": [
      "Train Loss: 0.6464, Train Acc: 0.8290%\n",
      "Validation Loss: 0.6592, Val Acc: 0.6765%\n",
      "------------------------------------------------------------\n"
     ]
    },
    {
     "name": "stderr",
     "output_type": "stream",
     "text": [
      "Epoch 9/20: 100%|██████████| 5/5 [00:05<00:00,  1.11s/batch]\n"
     ]
    },
    {
     "name": "stdout",
     "output_type": "stream",
     "text": [
      "Train Loss: 0.7181, Train Acc: 0.7770%\n",
      "Validation Loss: 0.5680, Val Acc: 0.7353%\n",
      "------------------------------------------------------------\n"
     ]
    },
    {
     "name": "stderr",
     "output_type": "stream",
     "text": [
      "Epoch 10/20: 100%|██████████| 5/5 [00:02<00:00,  1.75batch/s]\n"
     ]
    },
    {
     "name": "stdout",
     "output_type": "stream",
     "text": [
      "Train Loss: 0.6135, Train Acc: 0.8476%\n",
      "Validation Loss: 0.8693, Val Acc: 0.7500%\n",
      "------------------------------------------------------------\n"
     ]
    },
    {
     "name": "stderr",
     "output_type": "stream",
     "text": [
      "Epoch 11/20: 100%|██████████| 5/5 [00:05<00:00,  1.08s/batch]\n"
     ]
    },
    {
     "name": "stdout",
     "output_type": "stream",
     "text": [
      "Train Loss: 0.5739, Train Acc: 0.8401%\n",
      "Validation Loss: 0.6885, Val Acc: 0.7206%\n",
      "------------------------------------------------------------\n"
     ]
    },
    {
     "name": "stderr",
     "output_type": "stream",
     "text": [
      "Epoch 12/20: 100%|██████████| 5/5 [00:05<00:00,  1.15s/batch]\n"
     ]
    },
    {
     "name": "stdout",
     "output_type": "stream",
     "text": [
      "Train Loss: 0.5654, Train Acc: 0.8773%\n",
      "Validation Loss: 0.7685, Val Acc: 0.7059%\n",
      "------------------------------------------------------------\n",
      "Early stopping triggered.\n",
      "Early stopping\n"
     ]
    }
   ],
   "source": [
    "print(\"Training the model...\")\n",
    "train_losses, val_losses, train_accuracies, val_accuracies = train(model, trainloader, valloader, EPOCHS)"
   ]
  },
  {
   "cell_type": "code",
   "execution_count": 15,
   "id": "1171c9c0",
   "metadata": {},
   "outputs": [
    {
     "name": "stdout",
     "output_type": "stream",
     "text": [
      "Evaluating the model...\n",
      "Validation Accuracy: 0.7206\n"
     ]
    }
   ],
   "source": [
    "print(\"Evaluating the model...\")\n",
    "val_accuracy, val_class_correct, val_class_total, val_cm = evaluate(model, valloader)\n",
    "print(f\"Validation Accuracy: {val_accuracy:.4f}\")"
   ]
  },
  {
   "cell_type": "code",
   "execution_count": 16,
   "id": "00e36aff",
   "metadata": {},
   "outputs": [],
   "source": [
    "torch.cuda.empty_cache()\n",
    "torch.cuda.ipc_collect()"
   ]
  },
  {
   "cell_type": "markdown",
   "id": "902a09fa",
   "metadata": {},
   "source": [
    "## 4. Evaluation & Visualization"
   ]
  },
  {
   "cell_type": "code",
   "execution_count": 17,
   "id": "6111c3fb",
   "metadata": {},
   "outputs": [],
   "source": [
    "def plot_training_metrics(train_losses, train_accuracies, val_losses, val_accuracies):\n",
    "\n",
    "    epochs = range(1, len(train_losses) + 1)\n",
    "\n",
    "    fig, (ax1, ax2) = plt.subplots(1, 2, figsize=(15, 5))\n",
    "\n",
    "    ax1.plot(epochs, train_losses, 'b-', label='Training Loss')\n",
    "    ax1.plot(epochs, val_losses, 'r-', label='Validation Loss')\n",
    "    ax1.set_title('Training and Validation Loss')\n",
    "    ax1.set_xlabel('Epochs')\n",
    "    ax1.set_ylabel('Loss')\n",
    "    ax1.legend()\n",
    "    ax1.grid(True)\n",
    "\n",
    "    ax2.plot(epochs, train_accuracies, 'b-', label='Training Accuracy')\n",
    "    ax2.plot(epochs, val_accuracies, 'r-', label='Validation Accuracy')\n",
    "    ax2.set_title('Training and Validation Accuracy')\n",
    "    ax2.set_xlabel('Epochs')\n",
    "    ax2.set_ylabel('Accuracy (%)')\n",
    "    ax2.legend()\n",
    "    ax2.grid(True)\n",
    "\n",
    "    plt.tight_layout()\n",
    "    plt.show()\n",
    "\n",
    "    fig.savefig('../output/damage_classification/images/training_metrics.png')\n",
    "    print(\"Training metrics plot saved as 'training_metrics.png'\")\n",
    "    return"
   ]
  },
  {
   "cell_type": "code",
   "execution_count": 18,
   "id": "d1f81be4",
   "metadata": {},
   "outputs": [],
   "source": [
    "def plot_evaluation_metrics(class_correct, class_total, confusion_matrix):\n",
    "\n",
    "    classes = ['A', 'B', 'C']\n",
    "    num_classes = len(classes)\n",
    "\n",
    "    # Calculate accuracies and identify valid classes\n",
    "    accuracies = []\n",
    "    valid_classes = []\n",
    "\n",
    "    print(\"\\nPer-class Accuracy:\")\n",
    "    print(\"-\" * 50)\n",
    "    for i in range(num_classes):\n",
    "        if class_total[i] > 0:  # Avoid division by zero\n",
    "            accuracy = 100 * class_correct[i] / class_total[i]\n",
    "            print(f'{classes[i]}: {accuracy:.2f}% ({int(class_correct[i])}/{int(class_total[i])})')\n",
    "            accuracies.append(accuracy)\n",
    "            valid_classes.append(classes[i])\n",
    "        else:\n",
    "            print(f'{classes[i]}: No samples')\n",
    "\n",
    "    # Plot per-class accuracy as a bar chart\n",
    "    plt.figure(figsize=(12, 6))\n",
    "    plt.bar(valid_classes, accuracies, color='skyblue')\n",
    "    plt.xlabel('Classes')\n",
    "    plt.ylabel('Accuracy (%)')\n",
    "    plt.title('Per-class Accuracy')\n",
    "    plt.xticks(rotation=45, ha='right')\n",
    "    plt.tight_layout()\n",
    "    plt.savefig('../output/damage_classification/images/per_class_accuracy.png')\n",
    "    plt.show()\n",
    "\n",
    "    # Normalize confusion matrix by row (true labels) and plot\n",
    "    normalized_confusion_matrix = confusion_matrix.clone().float()  # Create a copy to avoid modifying the original\n",
    "    for i in range(num_classes):\n",
    "        if normalized_confusion_matrix[i].sum() > 0:\n",
    "            normalized_confusion_matrix[i] = normalized_confusion_matrix[i] / normalized_confusion_matrix[i].sum()\n",
    "\n",
    "    # Plot confusion matrix\n",
    "    plt.figure(figsize=(10, 8))\n",
    "    plt.imshow(normalized_confusion_matrix.cpu().numpy(), interpolation='nearest', cmap=plt.cm.Blues)\n",
    "    plt.title('Normalized Confusion Matrix')\n",
    "    plt.colorbar()\n",
    "    tick_marks = np.arange(num_classes)\n",
    "    plt.xticks(tick_marks, classes, rotation=45, ha='right')\n",
    "    plt.yticks(tick_marks, classes)\n",
    "\n",
    "    thresh = normalized_confusion_matrix.cpu().numpy().max() / 2.0\n",
    "    for i in range(num_classes):\n",
    "        for j in range(num_classes):\n",
    "            plt.text(\n",
    "                j,\n",
    "                i,\n",
    "                f'{normalized_confusion_matrix[i, j]:.2f}',\n",
    "                horizontalalignment=\"center\",\n",
    "                color=\"white\" if normalized_confusion_matrix[i, j] > thresh else \"black\",\n",
    "            )\n",
    "\n",
    "    plt.tight_layout()\n",
    "    plt.ylabel('True label')\n",
    "    plt.xlabel('Predicted label')\n",
    "    plt.savefig('../output/damage_classification/images/confusion_matrix.png')\n",
    "    plt.show()\n",
    "\n",
    "    return"
   ]
  },
  {
   "cell_type": "code",
   "execution_count": 19,
   "id": "6e51b73b",
   "metadata": {},
   "outputs": [
    {
     "data": {
      "image/png": "[encoded data removed]",
      "text/plain": [
       "<Figure size 1500x500 with 2 Axes>"
      ]
     },
     "metadata": {},
     "output_type": "display_data"
    },
    {
     "name": "stdout",
     "output_type": "stream",
     "text": [
      "Training metrics plot saved as 'training_metrics.png'\n",
      "\n",
      "Per-class Accuracy:\n",
      "--------------------------------------------------\n",
      "A: 82.35% (14/17)\n",
      "B: 22.22% (4/18)\n",
      "C: 93.94% (31/33)\n"
     ]
    },
    {
     "data": {
      "image/png": "[encoded data removed]",
      "text/plain": [
       "<Figure size 1200x600 with 1 Axes>"
      ]
     },
     "metadata": {},
     "output_type": "display_data"
    },
    {
     "data": {
      "image/png": "[encoded data removed]",
      "text/plain": [
       "<Figure size 1000x800 with 2 Axes>"
      ]
     },
     "metadata": {},
     "output_type": "display_data"
    }
   ],
   "source": [
    "plot_training_metrics(train_losses, train_accuracies, val_losses, val_accuracies)\n",
    "plot_evaluation_metrics(val_class_correct, val_class_total, val_cm)"
   ]
  },
  {
   "cell_type": "markdown",
   "id": "c6acc6aa",
   "metadata": {},
   "source": [
    "## 5. Prediction & Submission"
   ]
  },
  {
   "cell_type": "code",
   "execution_count": 20,
   "id": "b09ebd54",
   "metadata": {},
   "outputs": [
    {
     "name": "stdout",
     "output_type": "stream",
     "text": [
      "Loaded CSV file with 55 entries.\n"
     ]
    },
    {
     "name": "stderr",
     "output_type": "stream",
     "text": [
      "Processing test images: 100%|██████████| 55/55 [00:01<00:00, 27.84it/s]"
     ]
    },
    {
     "name": "stdout",
     "output_type": "stream",
     "text": [
      "Submission file saved as 'submission.csv'\n"
     ]
    },
    {
     "name": "stderr",
     "output_type": "stream",
     "text": [
      "\n"
     ]
    }
   ],
   "source": [
    "df = pd.read_csv(CSV_FILE)\n",
    "print(f\"Loaded CSV file with {len(df)} entries.\")\n",
    "\n",
    "classes = ['A', 'B', 'C']\n",
    "columns = df.columns.tolist()\n",
    "first_col = columns[0]\n",
    "second_col = columns[1]\n",
    "df[second_col] = df[second_col].astype('object')\n",
    "\n",
    "model.load_state_dict(torch.load(\"../output/damage_classification/models/best_model.pth\"))\n",
    "model.to(DEVICE)\n",
    "model.eval()\n",
    "\n",
    "for idx, row in tqdm(df.iterrows(), total=len(df), desc=\"Processing test images\"):\n",
    "    image_path = f\"{TEST_DIR}/{int(row[first_col])}{FILE_EXTENSIONS[0]}\"\n",
    "    image = Image.open(image_path).convert(\"RGB\")\n",
    "    image = transform_train(image).unsqueeze(0).to(DEVICE)\n",
    "\n",
    "    with torch.no_grad():\n",
    "        output = model(image)\n",
    "        _, predicted = torch.max(output, 1)\n",
    "        df.at[idx, second_col] = classes[predicted.item()]\n",
    "\n",
    "df.to_csv(\"../output/damage_classification/submission.csv\", index=False)\n",
    "print(\"Submission file saved as 'submission.csv'\")"
   ]
  }
 ],
 "metadata": {
  "kernelspec": {
   "display_name": "base",
   "language": "python",
   "name": "python3"
  },
  "language_info": {
   "codemirror_mode": {
    "name": "ipython",
    "version": 3
   },
   "file_extension": ".py",
   "mimetype": "text/x-python",
   "name": "python",
   "nbconvert_exporter": "python",
   "pygments_lexer": "ipython3",
   "version": "3.11.12"
  }
 },
 "nbformat": 4,
 "nbformat_minor": 5
}
